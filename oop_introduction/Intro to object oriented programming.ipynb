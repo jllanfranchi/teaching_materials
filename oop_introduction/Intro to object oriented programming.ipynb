{
 "cells": [
  {
   "cell_type": "raw",
   "metadata": {
    "slideshow": {
     "slide_type": "skip"
    }
   },
   "source": [
    "<script>\n",
    "  jQuery(document).ready(function($) {\n",
    "\n",
    "  $(window).load(function(){\n",
    "    $('#preloader').fadeOut('slow',function(){$(this).remove();});\n",
    "  });\n",
    "\n",
    "  });\n",
    "</script>\n",
    "\n",
    "<style type=\"text/css\">\n",
    "  div#preloader { position: fixed;\n",
    "      left: 0;\n",
    "      top: 0;\n",
    "      z-index: 999;\n",
    "      width: 100%;\n",
    "      height: 100%;\n",
    "      overflow: visible;\n",
    "      background: #fff url('http://preloaders.net/preloaders/720/Moving%20line.gif') no-repeat center center;\n",
    "  }\n",
    "\n",
    "</style>\n",
    "\n",
    "<div id=\"preloader\"></div>"
   ]
  },
  {
   "cell_type": "code",
   "execution_count": 78,
   "metadata": {
    "collapsed": false,
    "slideshow": {
     "slide_type": "skip"
    }
   },
   "outputs": [
    {
     "name": "stdout",
     "output_type": "stream",
     "text": [
      "Populating the interactive namespace from numpy and matplotlib\n"
     ]
    }
   ],
   "source": [
    "%pylab inline\n",
    "from IPython.display import Image, JSON, Latex, Math, Pretty, SVG"
   ]
  },
  {
   "cell_type": "markdown",
   "metadata": {
    "collapsed": true,
    "slideshow": {
     "slide_type": "slide"
    }
   },
   "source": [
    "# Object Oriented Programming Tutorial\n",
    "\n",
    "\n",
    "\n",
    "Justin Lanfranchi\n",
    "\n",
    "\n",
    "\n",
    "2016.05.17\n"
   ]
  },
  {
   "cell_type": "markdown",
   "metadata": {
    "slideshow": {
     "slide_type": "slide"
    }
   },
   "source": [
    "# Outline / Concepts\n",
    "\n",
    "* \"Good programming\"\n",
    "* Procedural programming\n",
    "* A concrete example: Data acquisition\n",
    "* Object oriented programming\n",
    "* Class\n",
    "* Object\n",
    "* Polymorphism\n",
    "* Inheritance"
   ]
  },
  {
   "cell_type": "markdown",
   "metadata": {
    "slideshow": {
     "slide_type": "slide"
    }
   },
   "source": [
    "# \"Good\" programming doesn't require one paradigm or another\n",
    "\n",
    "except in narrow circumstances.\n",
    "\n",
    "But certain principles of programming should be followed, no matter what programming paradigm you're using. And object oriented programming makes following some of these principles more natural (well, in *principle*...)."
   ]
  },
  {
   "cell_type": "markdown",
   "metadata": {
    "slideshow": {
     "slide_type": "slide"
    }
   },
   "source": [
    "## The principles of good programming"
   ]
  },
  {
   "cell_type": "markdown",
   "metadata": {
    "slideshow": {
     "slide_type": "fragment"
    }
   },
   "source": [
    "* Don't repeat yourself"
   ]
  },
  {
   "cell_type": "markdown",
   "metadata": {
    "slideshow": {
     "slide_type": "fragment"
    }
   },
   "source": [
    "* Don't repeat yourself"
   ]
  },
  {
   "cell_type": "markdown",
   "metadata": {},
   "source": [
    "## Secondary principles of good programming"
   ]
  },
  {
   "cell_type": "markdown",
   "metadata": {
    "slideshow": {
     "slide_type": "subslide"
    }
   },
   "source": [
    "* Find someone else's implementation of the thing *(i.e.... don't repeat (someone else's) code)*\n",
    "  * But prove that it works correctly, especially math/science codes"
   ]
  },
  {
   "cell_type": "markdown",
   "metadata": {
    "slideshow": {
     "slide_type": "fragment"
    }
   },
   "source": [
    "* Consider how your software will be used, not just by you\n",
    "  * Think in terms of *interfaces*: the implementation can change without breaking other code that makes use of it.\n",
    "  * Suppose you find a faster way to do procedure A or implement object X. This shouldn't break all code that calls procedure A or makes use of object X."
   ]
  },
  {
   "cell_type": "markdown",
   "metadata": {
    "slideshow": {
     "slide_type": "fragment"
    }
   },
   "source": [
    "* Encapsulate complexity and hide the details that a user of that part of the software shouldn't have to worry about."
   ]
  },
  {
   "cell_type": "markdown",
   "metadata": {
    "slideshow": {
     "slide_type": "subslide"
    }
   },
   "source": [
    "* Write code that you'll understand after not using for 2 years."
   ]
  },
  {
   "cell_type": "markdown",
   "metadata": {
    "slideshow": {
     "slide_type": "fragment"
    }
   },
   "source": [
    "* *\"Always code as if the guy who ends up maintaining your code will be a violent psychopath who knows where you live. Code for readability.\"* -John F. Woods (or somebody)"
   ]
  },
  {
   "cell_type": "markdown",
   "metadata": {
    "slideshow": {
     "slide_type": "fragment"
    }
   },
   "source": [
    "* Abstract what you're trying to accomplish enough that you can use your code to do something similar."
   ]
  },
  {
   "cell_type": "markdown",
   "metadata": {
    "slideshow": {
     "slide_type": "fragment"
    }
   },
   "source": [
    "* Don't abstract so much that you can do *anything* with your code. Then you've done nothing at all."
   ]
  },
  {
   "cell_type": "markdown",
   "metadata": {
    "slideshow": {
     "slide_type": "subslide"
    }
   },
   "source": [
    "## Vague, unproven programming wisdom\n",
    "\n",
    "* The better you understand datastructures, the better you'll code\n",
    "\n",
    "\n",
    "* Try to draw the problem you're trying to solve & its solution as block diagrams\n",
    "\n",
    "\n",
    "* You never get it right the first time anyway, so don't try to be perfect the first time.\n",
    "\n",
    "\n",
    "* Stackoverflow collects too much wisdom to ignore; use it shamelessly (but understand the tradeoffs discussed there)\n",
    "\n",
    "\n",
    "* Others in the group are here to help, ask us and others questions frequently\n",
    "\n",
    "\n",
    "* Use the Collie Method to debug your code"
   ]
  },
  {
   "cell_type": "markdown",
   "metadata": {
    "slideshow": {
     "slide_type": "slide"
    }
   },
   "source": [
    "# Procedural programming\n",
    "\n",
    "Put statements together into a function to execute them together.\n",
    "\n",
    "Possibly have inputs, and possibly have outputs."
   ]
  },
  {
   "cell_type": "code",
   "execution_count": 165,
   "metadata": {
    "collapsed": false,
    "slideshow": {
     "slide_type": "subslide"
    }
   },
   "outputs": [
    {
     "name": "stdout",
     "output_type": "stream",
     "text": [
      "x = 2.3\n",
      "y = x**2 = 5.29\n",
      "rslt = 5.29\n"
     ]
    }
   ],
   "source": [
    "# Define a function \"func\"\n",
    "def func(x):\n",
    "    print 'x =', x\n",
    "    y = x**2\n",
    "    print 'y = x**2 =', y\n",
    "    return y\n",
    "\n",
    "# Run the function on data\n",
    "mydata = 2.3\n",
    "rslt = func(2.3)\n",
    "print 'rslt =', rslt"
   ]
  },
  {
   "cell_type": "markdown",
   "metadata": {
    "slideshow": {
     "slide_type": "subslide"
    }
   },
   "source": [
    "* Quite natural for certain operations\n",
    "\n",
    "  * Particularly if the \"state\" is a simple thing (a number, an array, etc.)\n",
    "\n",
    "\n",
    "* Typically the first paradigm of programming you learn\n",
    "\n",
    "\n",
    "* Python is perfectly happy if you program procedurally.\n",
    "\n",
    "\n",
    "Note: Python itself implements an object model for the things in the language, so you'll encounter object oriented concepts whether you realize it or not while you use Python."
   ]
  },
  {
   "cell_type": "code",
   "execution_count": 14,
   "metadata": {
    "collapsed": true,
    "slideshow": {
     "slide_type": "subslide"
    }
   },
   "outputs": [],
   "source": [
    "def square(x):\n",
    "    new_list = []\n",
    "    for val in x:\n",
    "        new_list.append(val**2)\n",
    "    return new_list"
   ]
  },
  {
   "cell_type": "code",
   "execution_count": 15,
   "metadata": {
    "collapsed": false,
    "slideshow": {
     "slide_type": "fragment"
    }
   },
   "outputs": [
    {
     "data": {
      "text/plain": [
       "[1, 104.03999999999999, 324]"
      ]
     },
     "execution_count": 15,
     "metadata": {},
     "output_type": "execute_result"
    }
   ],
   "source": [
    "vals = [1, 10.2, 18]\n",
    "sq_vals = square(vals)\n",
    "sq_vals"
   ]
  },
  {
   "cell_type": "code",
   "execution_count": 17,
   "metadata": {
    "collapsed": true,
    "slideshow": {
     "slide_type": "fragment"
    }
   },
   "outputs": [],
   "source": [
    "def mean(x):\n",
    "    return sum(x)/len(x)\n",
    "\n",
    "def root(x):\n",
    "    return sqrt(x)"
   ]
  },
  {
   "cell_type": "code",
   "execution_count": 18,
   "metadata": {
    "collapsed": false,
    "slideshow": {
     "slide_type": "fragment"
    }
   },
   "outputs": [
    {
     "data": {
      "text/plain": [
       "11.958818224780128"
      ]
     },
     "execution_count": 18,
     "metadata": {},
     "output_type": "execute_result"
    }
   ],
   "source": [
    "rms = root(mean(square(vals)))\n",
    "rms"
   ]
  },
  {
   "cell_type": "markdown",
   "metadata": {
    "slideshow": {
     "slide_type": "slide"
    }
   },
   "source": [
    "# A Concrete Example to Follow"
   ]
  },
  {
   "cell_type": "markdown",
   "metadata": {
    "slideshow": {
     "slide_type": "subslide"
    }
   },
   "source": [
    "![worlds worst diagram](img/lab_setup.png)"
   ]
  },
  {
   "cell_type": "markdown",
   "metadata": {
    "slideshow": {
     "slide_type": "subslide"
    }
   },
   "source": [
    "![Another worlds worst illustration](img/lab_setup_specan.png)"
   ]
  },
  {
   "cell_type": "markdown",
   "metadata": {
    "slideshow": {
     "slide_type": "subslide"
    }
   },
   "source": [
    "Communications link can be\n",
    "\n",
    "* Serial (RS-232)\n",
    "* USB\n",
    "* Ethernet\n",
    "* ..."
   ]
  },
  {
   "cell_type": "markdown",
   "metadata": {
    "slideshow": {
     "slide_type": "subslide"
    }
   },
   "source": [
    "### Abstraction\n",
    "Whatever kind of communications interface and whatever kind of equipment, we are still just sending messages to the equipment and receiving messages (and data) back from the equipment. This is the same for the scope and for the specan, same for RS-232, USB, and Ethernet. So this seems like a good candidate for a task that can be abstracted."
   ]
  },
  {
   "cell_type": "markdown",
   "metadata": {
    "slideshow": {
     "slide_type": "subslide"
    }
   },
   "source": [
    "### Consider how your software will be used\n",
    "At first glance, as a user, I want to be able to do several very basic things:\n",
    "1. Query the equipment's state\n",
    "2. Set the equipment's state\n",
    "3. Request that it take data\n",
    "4. Save the data to disk\n",
    "\n",
    "1-3 above all make use of the communications interface, so we'll make sure our architecture handles those things for all interfaces. And the operations are just the same for both pieces of equipment, at least at this level we're abstracting it to."
   ]
  },
  {
   "cell_type": "markdown",
   "metadata": {
    "slideshow": {
     "slide_type": "subslide"
    }
   },
   "source": [
    "Thinking a bit more, we realize we might want to manipulate the data, display the data, and *then* store the data to disk. Or some ordering thereof."
   ]
  },
  {
   "cell_type": "markdown",
   "metadata": {
    "slideshow": {
     "slide_type": "fragment"
    }
   },
   "source": [
    "Do we know exactly how the data needs to be manipulated yet? Do we know exactly how we want to plot the data? Well... (long discussion ensues)..."
   ]
  },
  {
   "cell_type": "markdown",
   "metadata": {
    "slideshow": {
     "slide_type": "subslide"
    }
   },
   "source": [
    "**Stop!**\n",
    "\n",
    "Let's get the well-defined parts of the process built and working, and then we can figure out the rest. Those will probably be separate pieces since they are doing different things (analyzing the data vs. getting the data), so let's leave that aside for now."
   ]
  },
  {
   "cell_type": "markdown",
   "metadata": {
    "slideshow": {
     "slide_type": "subslide"
    }
   },
   "source": [
    "... so we come back here:\n",
    "\n",
    "### Consider how your software will be used\n",
    "At first glance, as a user, I want to be able to do several very basic things:\n",
    "1. Query the equipment's state\n",
    "2. Set the equipment's state\n",
    "3. Request that it take data\n",
    "4. Save the data to disk\n",
    "\n",
    "1-3 above all make use of the communications interface, so we'll make sure our architecture handles those things for all interfaces. And the operations are just the same for both pieces of equipment, at least at this level we're abstracting it to."
   ]
  },
  {
   "cell_type": "markdown",
   "metadata": {
    "slideshow": {
     "slide_type": "slide"
    }
   },
   "source": [
    "### Encapsulate and hide complexity\n",
    "The oscilloscope has certain parameters that the user might change frequently:\n",
    "* Sample rate\n",
    "* Duration of data-taking\n",
    "* Lowpass filter cutoff frequency\n",
    "* ...\n",
    "\n",
    "You want to **expose these** to the user."
   ]
  },
  {
   "cell_type": "markdown",
   "metadata": {
    "slideshow": {
     "slide_type": "subslide"
    }
   },
   "source": [
    "The scope also has parameters that will be changed only occasionally by the user:\n",
    "* Baud rate for communications\n",
    "* IP address / serial port\n",
    "* ...\n",
    "\n",
    "You can **encapsulate these** in the form of a configuration file, and the user just has to specify the config file rather than all of these details every time."
   ]
  },
  {
   "cell_type": "markdown",
   "metadata": {
    "slideshow": {
     "slide_type": "subslide"
    }
   },
   "source": [
    "And finally the scope has parameters or details that the user simply doesn't care about:\n",
    "* Scope's command set and which command gets sent when\n",
    "* Data format and encoding of messages sent/received\n",
    "* Besides initially setting up the communications protocol, the user doesn't care which one the equipment uses\n",
    "* ...\n",
    "\n",
    "These should be **hidden** from the user."
   ]
  },
  {
   "cell_type": "markdown",
   "metadata": {
    "slideshow": {
     "slide_type": "subslide"
    }
   },
   "source": [
    "Likewise, your software has many details that the user shouldn't have to worry about:\n",
    "* Did you use a list or a numpy array to hold the data?\n",
    "* Is the equipment ID the 3rd or 4th item in the list that contains equipment metadata?\n",
    "* Which communications protocol is being called by the software?\n",
    "\n",
    "These complexities, too, should be **hidden** from the user."
   ]
  },
  {
   "cell_type": "markdown",
   "metadata": {
    "slideshow": {
     "slide_type": "slide"
    }
   },
   "source": [
    "# Object Oriented Programming\n",
    "\n",
    "Objects are things that have both *methods* (i.e. actions, or things they can *do*) as well as *data* (or attributes, state, ... however you want to see it; it remembers stuff).\n",
    "\n",
    "Methods are just like functions in procedural programming, but they can access the state of the object they live in.\n",
    "\n",
    "The fact that objects hold \"data\" (i.e., the \"state\" of an object) makes them more like real things we interact with."
   ]
  },
  {
   "cell_type": "markdown",
   "metadata": {
    "slideshow": {
     "slide_type": "slide"
    }
   },
   "source": [
    "# Class\n",
    "\n",
    "A ***class*** is the **definition of an object**.\n",
    "\n",
    "A class is not the object, it is the description of the object."
   ]
  },
  {
   "cell_type": "markdown",
   "metadata": {
    "slideshow": {
     "slide_type": "slide"
    }
   },
   "source": [
    "## Start with the communications interface\n",
    "\n",
    "We know that different pieces of equipment use different comms interfaces. This can be one of several different kinds (e.g., RS-232, USB, and/or Ethernet).\n",
    "\n",
    "Below we'll define a ***base class***."
   ]
  },
  {
   "cell_type": "code",
   "execution_count": 188,
   "metadata": {
    "collapsed": true,
    "slideshow": {
     "slide_type": "subslide"
    }
   },
   "outputs": [],
   "source": [
    "class CommsInterface(object):\n",
    "    def __init__(self):\n",
    "        self.send_message_queue = []\n",
    "        self.receive_message_queue = []\n",
    "        self.__is_initialized = False\n",
    "        self._did_something = False\n",
    "        \n",
    "        self.do_something()\n",
    "    \n",
    "    @property\n",
    "    def did_something(self):\n",
    "        return self._did_something\n",
    "    \n",
    "    @did_something.setter\n",
    "    def did_something(self, value):\n",
    "        if not isinstance(value, bool):\n",
    "            raise TypeError('`value` must be bool, fool!')\n",
    "        self._did_something = value\n",
    "    \n",
    "    def initialize_interface(self):\n",
    "        if not self.is_initialized:\n",
    "            self._initialize_interface()\n",
    "    \n",
    "    def teardown_interface(self):\n",
    "        if self.is_initialized:\n",
    "            self._teardown_interface()\n",
    "    \n",
    "    def write(self, message, timeout=20):\n",
    "        self.initialize_interface()\n",
    "        self._write(message=message, timeout=timeout)\n",
    "        \n",
    "    def read(self, length=0, timeout=1):\n",
    "        self.initialize_interface()\n",
    "        self._read(length=length, timeout=timeout)\n",
    "    \n",
    "    def _initialize_interface(self):\n",
    "        raise NotImplementedError('You have to override this method in your subclass!')\n",
    "        \n",
    "    def _write(self, message, timeout):\n",
    "        raise NotImplementedError('You have to override this method in your subclass!')\n",
    "        \n",
    "    def _read(self, length, timeout):\n",
    "        raise NotImplementedError('You have to override this method in your subclass!')\n",
    "    \n",
    "    def do_something(self):\n",
    "        self._did_something = True"
   ]
  },
  {
   "cell_type": "markdown",
   "metadata": {
    "slideshow": {
     "slide_type": "slide"
    }
   },
   "source": [
    "## Object\n",
    "\n",
    "An ***object*** is the instance of a class.\n",
    "\n",
    "It's a real thing that can *actually* be interacted with, and that *actually* holds data.\n",
    "\n",
    "$\\int x \\; dx$"
   ]
  },
  {
   "cell_type": "code",
   "execution_count": 189,
   "metadata": {
    "collapsed": true,
    "slideshow": {
     "slide_type": "subslide"
    }
   },
   "outputs": [],
   "source": [
    "# \"Instantiate\" an object\n",
    "interface = CommsInterface()"
   ]
  },
  {
   "cell_type": "code",
   "execution_count": 190,
   "metadata": {
    "collapsed": false
   },
   "outputs": [
    {
     "data": {
      "text/plain": [
       "True"
      ]
     },
     "execution_count": 190,
     "metadata": {},
     "output_type": "execute_result"
    }
   ],
   "source": [
    "interface.did_something"
   ]
  },
  {
   "cell_type": "code",
   "execution_count": 191,
   "metadata": {
    "collapsed": false
   },
   "outputs": [
    {
     "ename": "TypeError",
     "evalue": "`value` must be bool, fool!",
     "output_type": "error",
     "traceback": [
      "\u001b[1;31m---------------------------------------------------------------------------\u001b[0m",
      "\u001b[1;31mTypeError\u001b[0m                                 Traceback (most recent call last)",
      "\u001b[1;32m<ipython-input-191-34369529c92f>\u001b[0m in \u001b[0;36m<module>\u001b[1;34m()\u001b[0m\n\u001b[1;32m----> 1\u001b[1;33m \u001b[0minterface\u001b[0m\u001b[1;33m.\u001b[0m\u001b[0mdid_something\u001b[0m \u001b[1;33m=\u001b[0m \u001b[1;34m'stupid things'\u001b[0m\u001b[1;33m\u001b[0m\u001b[0m\n\u001b[0m",
      "\u001b[1;32m<ipython-input-188-07b877ffafdd>\u001b[0m in \u001b[0;36mdid_something\u001b[1;34m(self, value)\u001b[0m\n\u001b[0;32m     15\u001b[0m     \u001b[1;32mdef\u001b[0m \u001b[0mdid_something\u001b[0m\u001b[1;33m(\u001b[0m\u001b[0mself\u001b[0m\u001b[1;33m,\u001b[0m \u001b[0mvalue\u001b[0m\u001b[1;33m)\u001b[0m\u001b[1;33m:\u001b[0m\u001b[1;33m\u001b[0m\u001b[0m\n\u001b[0;32m     16\u001b[0m         \u001b[1;32mif\u001b[0m \u001b[1;32mnot\u001b[0m \u001b[0misinstance\u001b[0m\u001b[1;33m(\u001b[0m\u001b[0mvalue\u001b[0m\u001b[1;33m,\u001b[0m \u001b[0mbool\u001b[0m\u001b[1;33m)\u001b[0m\u001b[1;33m:\u001b[0m\u001b[1;33m\u001b[0m\u001b[0m\n\u001b[1;32m---> 17\u001b[1;33m             \u001b[1;32mraise\u001b[0m \u001b[0mTypeError\u001b[0m\u001b[1;33m(\u001b[0m\u001b[1;34m'`value` must be bool, fool!'\u001b[0m\u001b[1;33m)\u001b[0m\u001b[1;33m\u001b[0m\u001b[0m\n\u001b[0m\u001b[0;32m     18\u001b[0m         \u001b[0mself\u001b[0m\u001b[1;33m.\u001b[0m\u001b[0m_did_something\u001b[0m \u001b[1;33m=\u001b[0m \u001b[0mvalue\u001b[0m\u001b[1;33m\u001b[0m\u001b[0m\n\u001b[0;32m     19\u001b[0m \u001b[1;33m\u001b[0m\u001b[0m\n",
      "\u001b[1;31mTypeError\u001b[0m: `value` must be bool, fool!"
     ]
    }
   ],
   "source": [
    "interface.did_something = 'stupid things'"
   ]
  },
  {
   "cell_type": "code",
   "execution_count": 193,
   "metadata": {
    "collapsed": false
   },
   "outputs": [
    {
     "name": "stdout",
     "output_type": "stream",
     "text": [
      "False\n"
     ]
    }
   ],
   "source": [
    "interface.did_something = False\n",
    "print interface.did_something"
   ]
  },
  {
   "cell_type": "code",
   "execution_count": 181,
   "metadata": {
    "collapsed": false
   },
   "outputs": [
    {
     "data": {
      "text/plain": [
       "'stupid things'"
      ]
     },
     "execution_count": 181,
     "metadata": {},
     "output_type": "execute_result"
    }
   ],
   "source": [
    "interface._did_something = 'stupid things'\n",
    "interface._did_something"
   ]
  },
  {
   "cell_type": "code",
   "execution_count": 182,
   "metadata": {
    "collapsed": false
   },
   "outputs": [
    {
     "data": {
      "text/plain": [
       "'more stupid things'"
      ]
     },
     "execution_count": 182,
     "metadata": {},
     "output_type": "execute_result"
    }
   ],
   "source": [
    "interface._CommsInterface__is_initialized = 'more stupid things'\n",
    "interface._CommsInterface__is_initialized"
   ]
  },
  {
   "cell_type": "code",
   "execution_count": 139,
   "metadata": {
    "collapsed": false,
    "slideshow": {
     "slide_type": "fragment"
    }
   },
   "outputs": [
    {
     "data": {
      "text/plain": [
       "__main__.CommsInterface"
      ]
     },
     "execution_count": 139,
     "metadata": {},
     "output_type": "execute_result"
    }
   ],
   "source": [
    "# What \"type\" is the object?\n",
    "type(interface)"
   ]
  },
  {
   "cell_type": "code",
   "execution_count": 140,
   "metadata": {
    "collapsed": false,
    "slideshow": {
     "slide_type": "fragment"
    }
   },
   "outputs": [
    {
     "name": "stdout",
     "output_type": "stream",
     "text": [
      "the object named \"interface\" *is* a CommsInterface!\n"
     ]
    }
   ],
   "source": [
    "# Check explicitly in your code...\n",
    "if isinstance(interface, CommsInterface):\n",
    "    print 'the object named \"interface\" *is* a CommsInterface!'"
   ]
  },
  {
   "cell_type": "code",
   "execution_count": 141,
   "metadata": {
    "collapsed": false,
    "slideshow": {
     "slide_type": "fragment"
    }
   },
   "outputs": [
    {
     "data": {
      "text/plain": [
       "False"
      ]
     },
     "execution_count": 141,
     "metadata": {},
     "output_type": "execute_result"
    }
   ],
   "source": [
    "x = 123\n",
    "isinstance(x, CommsInterface)"
   ]
  },
  {
   "cell_type": "code",
   "execution_count": 142,
   "metadata": {
    "collapsed": false,
    "slideshow": {
     "slide_type": "subslide"
    }
   },
   "outputs": [
    {
     "data": {
      "text/plain": [
       "False"
      ]
     },
     "execution_count": 142,
     "metadata": {},
     "output_type": "execute_result"
    }
   ],
   "source": [
    "# Access attributes of the object\n",
    "interface._"
   ]
  },
  {
   "cell_type": "code",
   "execution_count": 143,
   "metadata": {
    "collapsed": false,
    "slideshow": {
     "slide_type": "-"
    }
   },
   "outputs": [
    {
     "data": {
      "text/plain": [
       "True"
      ]
     },
     "execution_count": 143,
     "metadata": {},
     "output_type": "execute_result"
    }
   ],
   "source": [
    "interface.did_something"
   ]
  },
  {
   "cell_type": "code",
   "execution_count": 144,
   "metadata": {
    "collapsed": false,
    "slideshow": {
     "slide_type": "fragment"
    }
   },
   "outputs": [
    {
     "name": "stdout",
     "output_type": "stream",
     "text": [
      "this is an attribute not defined in the class\n"
     ]
    }
   ],
   "source": [
    "# Set a new attribute of the object\n",
    "interface.newattr = 'this is an attribute not defined in the class'\n",
    "\n",
    "print interface.newattr"
   ]
  },
  {
   "cell_type": "code",
   "execution_count": 145,
   "metadata": {
    "collapsed": false,
    "slideshow": {
     "slide_type": "fragment"
    }
   },
   "outputs": [
    {
     "name": "stdout",
     "output_type": "stream",
     "text": [
      "this should not be allowed!\n"
     ]
    }
   ],
   "source": [
    "# Overwrite an attribute\n",
    "interface.is_initialized = 'this should not be allowed!'\n",
    "\n",
    "print interface.is_initialized"
   ]
  },
  {
   "cell_type": "code",
   "execution_count": 146,
   "metadata": {
    "collapsed": false,
    "slideshow": {
     "slide_type": "subslide"
    }
   },
   "outputs": [
    {
     "ename": "NotImplementedError",
     "evalue": "You have to override this method in your subclass!",
     "output_type": "error",
     "traceback": [
      "\u001b[1;31m---------------------------------------------------------------------------\u001b[0m",
      "\u001b[1;31mNotImplementedError\u001b[0m                       Traceback (most recent call last)",
      "\u001b[1;32m<ipython-input-146-a035615fe908>\u001b[0m in \u001b[0;36m<module>\u001b[1;34m()\u001b[0m\n\u001b[0;32m      1\u001b[0m \u001b[1;31m# Try to do something with it\u001b[0m\u001b[1;33m\u001b[0m\u001b[1;33m\u001b[0m\u001b[0m\n\u001b[1;32m----> 2\u001b[1;33m \u001b[0minterface\u001b[0m\u001b[1;33m.\u001b[0m\u001b[0mread\u001b[0m\u001b[1;33m(\u001b[0m\u001b[1;33m)\u001b[0m\u001b[1;33m\u001b[0m\u001b[0m\n\u001b[0m",
      "\u001b[1;32m<ipython-input-137-bf84712a9771>\u001b[0m in \u001b[0;36mread\u001b[1;34m(self, length, timeout)\u001b[0m\n\u001b[0;32m     22\u001b[0m     \u001b[1;32mdef\u001b[0m \u001b[0mread\u001b[0m\u001b[1;33m(\u001b[0m\u001b[0mself\u001b[0m\u001b[1;33m,\u001b[0m \u001b[0mlength\u001b[0m\u001b[1;33m=\u001b[0m\u001b[1;36m0\u001b[0m\u001b[1;33m,\u001b[0m \u001b[0mtimeout\u001b[0m\u001b[1;33m=\u001b[0m\u001b[1;36m1\u001b[0m\u001b[1;33m)\u001b[0m\u001b[1;33m:\u001b[0m\u001b[1;33m\u001b[0m\u001b[0m\n\u001b[0;32m     23\u001b[0m         \u001b[0mself\u001b[0m\u001b[1;33m.\u001b[0m\u001b[0minitialize_interface\u001b[0m\u001b[1;33m(\u001b[0m\u001b[1;33m)\u001b[0m\u001b[1;33m\u001b[0m\u001b[0m\n\u001b[1;32m---> 24\u001b[1;33m         \u001b[0mself\u001b[0m\u001b[1;33m.\u001b[0m\u001b[0m_read\u001b[0m\u001b[1;33m(\u001b[0m\u001b[0mlength\u001b[0m\u001b[1;33m=\u001b[0m\u001b[0mlength\u001b[0m\u001b[1;33m,\u001b[0m \u001b[0mtimeout\u001b[0m\u001b[1;33m=\u001b[0m\u001b[0mtimeout\u001b[0m\u001b[1;33m)\u001b[0m\u001b[1;33m\u001b[0m\u001b[0m\n\u001b[0m\u001b[0;32m     25\u001b[0m \u001b[1;33m\u001b[0m\u001b[0m\n\u001b[0;32m     26\u001b[0m     \u001b[1;32mdef\u001b[0m \u001b[0m_initialize_interface\u001b[0m\u001b[1;33m(\u001b[0m\u001b[0mself\u001b[0m\u001b[1;33m)\u001b[0m\u001b[1;33m:\u001b[0m\u001b[1;33m\u001b[0m\u001b[0m\n",
      "\u001b[1;32m<ipython-input-137-bf84712a9771>\u001b[0m in \u001b[0;36m_read\u001b[1;34m(self, length, timeout)\u001b[0m\n\u001b[0;32m     31\u001b[0m \u001b[1;33m\u001b[0m\u001b[0m\n\u001b[0;32m     32\u001b[0m     \u001b[1;32mdef\u001b[0m \u001b[0m_read\u001b[0m\u001b[1;33m(\u001b[0m\u001b[0mself\u001b[0m\u001b[1;33m,\u001b[0m \u001b[0mlength\u001b[0m\u001b[1;33m,\u001b[0m \u001b[0mtimeout\u001b[0m\u001b[1;33m)\u001b[0m\u001b[1;33m:\u001b[0m\u001b[1;33m\u001b[0m\u001b[0m\n\u001b[1;32m---> 33\u001b[1;33m         \u001b[1;32mraise\u001b[0m \u001b[0mNotImplementedError\u001b[0m\u001b[1;33m(\u001b[0m\u001b[1;34m'You have to override this method in your subclass!'\u001b[0m\u001b[1;33m)\u001b[0m\u001b[1;33m\u001b[0m\u001b[0m\n\u001b[0m\u001b[0;32m     34\u001b[0m \u001b[1;33m\u001b[0m\u001b[0m\n\u001b[0;32m     35\u001b[0m     \u001b[1;32mdef\u001b[0m \u001b[0mdo_something\u001b[0m\u001b[1;33m(\u001b[0m\u001b[0mself\u001b[0m\u001b[1;33m)\u001b[0m\u001b[1;33m:\u001b[0m\u001b[1;33m\u001b[0m\u001b[0m\n",
      "\u001b[1;31mNotImplementedError\u001b[0m: You have to override this method in your subclass!"
     ]
    }
   ],
   "source": [
    "# Try to do something with it\n",
    "interface.read()"
   ]
  },
  {
   "cell_type": "code",
   "execution_count": 147,
   "metadata": {
    "collapsed": false,
    "slideshow": {
     "slide_type": "subslide"
    }
   },
   "outputs": [
    {
     "name": "stdout",
     "output_type": "stream",
     "text": [
      "not implemented, but allowing the program to go on anyway...\n",
      "blah\n"
     ]
    }
   ],
   "source": [
    "# Try to do something with it again, but catch the exception\n",
    "try:\n",
    "    interface.read()\n",
    "except NotImplementedError:\n",
    "    print 'not implemented, but allowing the program to go on anyway...'\n",
    "    \n",
    "x = 'blah'\n",
    "print x"
   ]
  },
  {
   "cell_type": "markdown",
   "metadata": {
    "slideshow": {
     "slide_type": "slide"
    }
   },
   "source": [
    "# Inheritance"
   ]
  },
  {
   "cell_type": "markdown",
   "metadata": {},
   "source": [
    "If a class B ***inherits*** from class A, then it gets all of the properties and methods of A.\n",
    "\n",
    "Class A is said to be the ***base class*** or the ***superclass*** of class B.\n",
    "\n",
    "We will now define the class RS232 which *inherits* from the CommsInterface class."
   ]
  },
  {
   "cell_type": "code",
   "execution_count": 154,
   "metadata": {
    "collapsed": true,
    "slideshow": {
     "slide_type": "subslide"
    }
   },
   "outputs": [],
   "source": [
    "class RS232(CommsInterface):\n",
    "    def __init__(self, com_port):\n",
    "        super(RS232, self).__init__()\n",
    "        self.com_port = com_port\n",
    "        \n",
    "    def _initialize_interface(self):\n",
    "        self.serial_port = serial.open(self.com_port)\n",
    "        self.is_initialized = True\n",
    "        \n",
    "    def _write(self, message, timeout):\n",
    "        self.serial_port.write(message, timeout=timeout)\n",
    "        \n",
    "    def _read(self, timeout):\n",
    "        self.serial_port.read(timeout=timeout)"
   ]
  },
  {
   "cell_type": "code",
   "execution_count": 155,
   "metadata": {
    "collapsed": false,
    "slideshow": {
     "slide_type": "fragment"
    }
   },
   "outputs": [
    {
     "data": {
      "text/plain": [
       "True"
      ]
     },
     "execution_count": 155,
     "metadata": {},
     "output_type": "execute_result"
    }
   ],
   "source": [
    "interface = RS232('com1')\n",
    "isinstance(interface, RS232)"
   ]
  },
  {
   "cell_type": "code",
   "execution_count": 156,
   "metadata": {
    "collapsed": false,
    "slideshow": {
     "slide_type": "fragment"
    }
   },
   "outputs": [
    {
     "data": {
      "text/plain": [
       "True"
      ]
     },
     "execution_count": 156,
     "metadata": {},
     "output_type": "execute_result"
    }
   ],
   "source": [
    "isinstance(interface, CommsInterface)"
   ]
  },
  {
   "cell_type": "markdown",
   "metadata": {
    "slideshow": {
     "slide_type": "subslide"
    }
   },
   "source": [
    "### Polymorphism:\n",
    "Derived classes being able to define their own methods, as in the `RS232` class above."
   ]
  },
  {
   "cell_type": "markdown",
   "metadata": {
    "slideshow": {
     "slide_type": "subslide"
    }
   },
   "source": [
    "### Python has special methods to work with objects\n",
    "\n",
    "An important one to know is `__dict__` (among many others you'll learn later).\n",
    "\n",
    "`__dict__` tells you the attributes of an object."
   ]
  },
  {
   "cell_type": "code",
   "execution_count": 157,
   "metadata": {
    "collapsed": false,
    "slideshow": {
     "slide_type": "fragment"
    }
   },
   "outputs": [
    {
     "data": {
      "text/plain": [
       "{'com_port': 'com1',\n",
       " 'did_something': True,\n",
       " 'is_initialized': False,\n",
       " 'receive_message_queue': [],\n",
       " 'send_message_queue': []}"
      ]
     },
     "execution_count": 157,
     "metadata": {},
     "output_type": "execute_result"
    }
   ],
   "source": [
    "interface.__dict__"
   ]
  },
  {
   "cell_type": "markdown",
   "metadata": {
    "slideshow": {
     "slide_type": "fragment"
    }
   },
   "source": [
    "With ipython, you can also type\n",
    "\n",
    "  `interface.<tab>`\n",
    "\n",
    "and it will display the attributes and methods of an object."
   ]
  },
  {
   "cell_type": "markdown",
   "metadata": {
    "slideshow": {
     "slide_type": "subslide"
    }
   },
   "source": [
    "### Now define a new derived class, Ethernet\n",
    "\n",
    "This one will *not* call `super(...).__init__()`"
   ]
  },
  {
   "cell_type": "code",
   "execution_count": 164,
   "metadata": {
    "collapsed": true,
    "slideshow": {
     "slide_type": "subslide"
    }
   },
   "outputs": [],
   "source": [
    "class Ethernet(CommsInterface):\n",
    "    def __init__(self, ip_address, port):\n",
    "        self.ip_address = ip_address\n",
    "        self.port = port\n",
    "        \n",
    "    def _initialize_interface(self):\n",
    "        # ...\n",
    "        self.is_initialized = True"
   ]
  },
  {
   "cell_type": "code",
   "execution_count": 159,
   "metadata": {
    "collapsed": true,
    "slideshow": {
     "slide_type": "fragment"
    }
   },
   "outputs": [],
   "source": [
    "interface = Ethernet('192.168.0.1', 8888)"
   ]
  },
  {
   "cell_type": "code",
   "execution_count": 162,
   "metadata": {
    "collapsed": false,
    "slideshow": {
     "slide_type": "fragment"
    }
   },
   "outputs": [
    {
     "name": "stdout",
     "output_type": "stream",
     "text": [
      "True\n",
      "True\n"
     ]
    }
   ],
   "source": [
    "print isinstance(interface, Ethernet)\n",
    "print isinstance(interface, CommsInterface)"
   ]
  },
  {
   "cell_type": "code",
   "execution_count": 163,
   "metadata": {
    "collapsed": false,
    "slideshow": {
     "slide_type": "fragment"
    }
   },
   "outputs": [
    {
     "data": {
      "text/plain": [
       "{'ip_address': '192.168.0.1', 'port': 8888}"
      ]
     },
     "execution_count": 163,
     "metadata": {},
     "output_type": "execute_result"
    }
   ],
   "source": [
    "interface.__dict__"
   ]
  },
  {
   "cell_type": "markdown",
   "metadata": {
    "slideshow": {
     "slide_type": "slide"
    }
   },
   "source": [
    "# Notes about OO"
   ]
  },
  {
   "cell_type": "markdown",
   "metadata": {
    "slideshow": {
     "slide_type": "subslide"
    }
   },
   "source": [
    "### Find out about an object directly through its attributes.\n",
    "\n",
    "If you have 6 of the same kind of thing, say 6 Polygon objects.\n",
    "\n",
    "Rather than keeping track of the 6 color and 6 shape attributes in two lists that you try to keep up to date...\n",
    "\n",
    "\n",
    "just need to keep track of the 6 objects, and you can always ask for the objects to tell you about their colors and shapes at any point.\n",
    "\n",
    "\n",
    "This keeps the \"metadata\" about the objects in sync with the actual state of those objects."
   ]
  },
  {
   "cell_type": "markdown",
   "metadata": {
    "slideshow": {
     "slide_type": "slide"
    }
   },
   "source": [
    "# Particulars of Python"
   ]
  },
  {
   "cell_type": "markdown",
   "metadata": {
    "slideshow": {
     "slide_type": "slide"
    }
   },
   "source": [
    "## Most things are passed by reference (\"pointers\")\n",
    "\n",
    "This means that all but the simplest datastructures don't get copied into functions/methods, but just a pointer to the data is passed around. Pointer = its address.\n",
    "\n",
    "Calling a function or method with an object in its arguments:\n",
    "* *\"Please operate on the piece of data that lives at 201 Main St.\"*\n",
    "\n",
    "\n",
    "Then if the function does something to modify the data, it's modifying the data that actually lives at 201 Main St."
   ]
  },
  {
   "cell_type": "code",
   "execution_count": 207,
   "metadata": {
    "collapsed": true,
    "slideshow": {
     "slide_type": "subslide"
    }
   },
   "outputs": [],
   "source": [
    "# Create a simple function (works same for methods of a class)\n",
    "def func(var):\n",
    "    print 'the arg I got lives at\\n\\t', id(var)\n",
    "    original = var\n",
    "    var[0] = 3\n",
    "    #our_list[1] = 'something else'\n",
    "    print 'var is', var"
   ]
  },
  {
   "cell_type": "code",
   "execution_count": 208,
   "metadata": {
    "collapsed": false,
    "slideshow": {
     "slide_type": "fragment"
    }
   },
   "outputs": [
    {
     "name": "stdout",
     "output_type": "stream",
     "text": [
      "140457198674088\n",
      "  x = (['a', 'b'], 3, -2, 4) (before)\n"
     ]
    }
   ],
   "source": [
    "# Create a list named \"x\"\n",
    "x = (['a','b'], 3, -2, 4)\n",
    "print id(x)\n",
    "print '  x =', x, '(before)'"
   ]
  },
  {
   "cell_type": "code",
   "execution_count": 213,
   "metadata": {
    "collapsed": false,
    "slideshow": {
     "slide_type": "fragment"
    }
   },
   "outputs": [
    {
     "name": "stdout",
     "output_type": "stream",
     "text": [
      "[0, 10]\n"
     ]
    }
   ],
   "source": [
    "def func(*args):\n",
    "    print args\n",
    "\n",
    "# build up an argument list\n",
    "arg_list = []\n",
    "arg_list.append(0)\n",
    "arg_list.append(10)\n",
    "print arg_list\n"
   ]
  },
  {
   "cell_type": "code",
   "execution_count": 217,
   "metadata": {
    "collapsed": false,
    "slideshow": {
     "slide_type": "fragment"
    }
   },
   "outputs": [
    {
     "name": "stdout",
     "output_type": "stream",
     "text": [
      "('a', 'b', 'c')\n"
     ]
    }
   ],
   "source": [
    "func(*['a', 'b', 'c'])"
   ]
  },
  {
   "cell_type": "code",
   "execution_count": 209,
   "metadata": {
    "collapsed": false,
    "slideshow": {
     "slide_type": "fragment"
    }
   },
   "outputs": [
    {
     "name": "stdout",
     "output_type": "stream",
     "text": [
      "the arg I got lives at\n",
      "\t140457198674088\n"
     ]
    },
    {
     "ename": "TypeError",
     "evalue": "'tuple' object does not support item assignment",
     "output_type": "error",
     "traceback": [
      "\u001b[1;31m---------------------------------------------------------------------------\u001b[0m",
      "\u001b[1;31mTypeError\u001b[0m                                 Traceback (most recent call last)",
      "\u001b[1;32m<ipython-input-209-b4c0e665b144>\u001b[0m in \u001b[0;36m<module>\u001b[1;34m()\u001b[0m\n\u001b[1;32m----> 1\u001b[1;33m \u001b[0mfunc\u001b[0m\u001b[1;33m(\u001b[0m\u001b[0mx\u001b[0m\u001b[1;33m)\u001b[0m\u001b[1;33m\u001b[0m\u001b[0m\n\u001b[0m",
      "\u001b[1;32m<ipython-input-207-a8cf8ff00b71>\u001b[0m in \u001b[0;36mfunc\u001b[1;34m(var)\u001b[0m\n\u001b[0;32m      3\u001b[0m     \u001b[1;32mprint\u001b[0m \u001b[1;34m'the arg I got lives at\\n\\t'\u001b[0m\u001b[1;33m,\u001b[0m \u001b[0mid\u001b[0m\u001b[1;33m(\u001b[0m\u001b[0mvar\u001b[0m\u001b[1;33m)\u001b[0m\u001b[1;33m\u001b[0m\u001b[0m\n\u001b[0;32m      4\u001b[0m     \u001b[0moriginal\u001b[0m \u001b[1;33m=\u001b[0m \u001b[0mvar\u001b[0m\u001b[1;33m\u001b[0m\u001b[0m\n\u001b[1;32m----> 5\u001b[1;33m     \u001b[0mvar\u001b[0m\u001b[1;33m[\u001b[0m\u001b[1;36m0\u001b[0m\u001b[1;33m]\u001b[0m \u001b[1;33m=\u001b[0m \u001b[1;36m3\u001b[0m\u001b[1;33m\u001b[0m\u001b[0m\n\u001b[0m\u001b[0;32m      6\u001b[0m     \u001b[1;31m#our_list[1] = 'something else'\u001b[0m\u001b[1;33m\u001b[0m\u001b[1;33m\u001b[0m\u001b[0m\n\u001b[0;32m      7\u001b[0m     \u001b[1;32mprint\u001b[0m \u001b[1;34m'var is'\u001b[0m\u001b[1;33m,\u001b[0m \u001b[0mvar\u001b[0m\u001b[1;33m\u001b[0m\u001b[0m\n",
      "\u001b[1;31mTypeError\u001b[0m: 'tuple' object does not support item assignment"
     ]
    }
   ],
   "source": [
    "func(x)"
   ]
  },
  {
   "cell_type": "code",
   "execution_count": 201,
   "metadata": {
    "collapsed": false,
    "slideshow": {
     "slide_type": "fragment"
    }
   },
   "outputs": [
    {
     "name": "stdout",
     "output_type": "stream",
     "text": [
      "x is [3, 3, -2, 4] (after)\n"
     ]
    }
   ],
   "source": [
    "print 'x is', x, '(after)'"
   ]
  },
  {
   "cell_type": "markdown",
   "metadata": {
    "slideshow": {
     "slide_type": "subslide"
    }
   },
   "source": [
    "If you don't want this behavior, you can create a physical copy the object, and then manipulate the copy."
   ]
  },
  {
   "cell_type": "code",
   "execution_count": 219,
   "metadata": {
    "collapsed": true,
    "slideshow": {
     "slide_type": "fragment"
    }
   },
   "outputs": [],
   "source": [
    "from copy import copy, deepcopy\n",
    "\n",
    "def func2(var):\n",
    "    print 'the arg I got lives at\\n\\t', id(var)\n",
    "    original = var\n",
    "    var = deepcopy(original)\n",
    "    print 'the copy of the arg I got lives at\\n\\t', id(var)\n",
    "    var[0] = 3\n",
    "    print 'var =', var"
   ]
  },
  {
   "cell_type": "code",
   "execution_count": 220,
   "metadata": {
    "collapsed": false,
    "slideshow": {
     "slide_type": "fragment"
    }
   },
   "outputs": [
    {
     "name": "stdout",
     "output_type": "stream",
     "text": [
      "x lives at\n",
      "\t140457198041928\n",
      "x is [1, 3, -2, 4] (before)\n"
     ]
    }
   ],
   "source": [
    "x = [1, 3, -2, 4]\n",
    "print 'x lives at\\n\\t', id(x)\n",
    "print 'x is', x, '(before)'"
   ]
  },
  {
   "cell_type": "code",
   "execution_count": 221,
   "metadata": {
    "collapsed": false,
    "slideshow": {
     "slide_type": "fragment"
    }
   },
   "outputs": [
    {
     "name": "stdout",
     "output_type": "stream",
     "text": [
      "the arg I got lives at\n",
      "\t140457198041928\n",
      "the copy of the arg I got lives at\n",
      "\t140457198006072\n",
      "var = [3, 3, -2, 4]\n"
     ]
    }
   ],
   "source": [
    "func2(x)"
   ]
  },
  {
   "cell_type": "code",
   "execution_count": 222,
   "metadata": {
    "collapsed": false,
    "slideshow": {
     "slide_type": "fragment"
    }
   },
   "outputs": [
    {
     "name": "stdout",
     "output_type": "stream",
     "text": [
      "x is [1, 3, -2, 4] (after)\n"
     ]
    }
   ],
   "source": [
    "print 'x is', x, '(after)'"
   ]
  },
  {
   "cell_type": "markdown",
   "metadata": {
    "slideshow": {
     "slide_type": "subslide"
    }
   },
   "source": [
    "This is true of everything but \"immutable objects.\" Immutable objects are simple numbers float, int, bool, and tuples. These are passed \"by value,\" i.e., their actual value is passed to the function/method."
   ]
  },
  {
   "cell_type": "code",
   "execution_count": 98,
   "metadata": {
    "collapsed": true,
    "slideshow": {
     "slide_type": "fragment"
    }
   },
   "outputs": [],
   "source": [
    "def func3(var):\n",
    "    var = 2\n",
    "    print 'var =', var"
   ]
  },
  {
   "cell_type": "code",
   "execution_count": 99,
   "metadata": {
    "collapsed": false,
    "slideshow": {
     "slide_type": "fragment"
    }
   },
   "outputs": [
    {
     "name": "stdout",
     "output_type": "stream",
     "text": [
      "x = (1, 5, 6) (before)\n"
     ]
    }
   ],
   "source": [
    "x = (1, 5, 6)\n",
    "print 'x =', x, '(before)'"
   ]
  },
  {
   "cell_type": "code",
   "execution_count": 100,
   "metadata": {
    "collapsed": false,
    "slideshow": {
     "slide_type": "fragment"
    }
   },
   "outputs": [
    {
     "name": "stdout",
     "output_type": "stream",
     "text": [
      "var = 2\n"
     ]
    }
   ],
   "source": [
    "func3(x)"
   ]
  },
  {
   "cell_type": "code",
   "execution_count": 101,
   "metadata": {
    "collapsed": false,
    "slideshow": {
     "slide_type": "fragment"
    }
   },
   "outputs": [
    {
     "name": "stdout",
     "output_type": "stream",
     "text": [
      "x = (1, 5, 6) (after)\n"
     ]
    }
   ],
   "source": [
    "print 'x =', x, '(after)'"
   ]
  },
  {
   "cell_type": "code",
   "execution_count": 12,
   "metadata": {
    "collapsed": false,
    "slideshow": {
     "slide_type": "skip"
    }
   },
   "outputs": [
    {
     "ename": "IndentationError",
     "evalue": "expected an indented block (<ipython-input-12-2a4796622f2f>, line 29)",
     "output_type": "error",
     "traceback": [
      "\u001b[1;36m  File \u001b[1;32m\"<ipython-input-12-2a4796622f2f>\"\u001b[1;36m, line \u001b[1;32m29\u001b[0m\n\u001b[1;33m    class Instrument:\u001b[0m\n\u001b[1;37m                     ^\u001b[0m\n\u001b[1;31mIndentationError\u001b[0m\u001b[1;31m:\u001b[0m expected an indented block\n"
     ]
    }
   ],
   "source": [
    "    \n",
    "class Instrument:\n",
    "    \"\"\"Control lab equipment.\n",
    "    \n",
    "    Parameters\n",
    "    ----------\n",
    "    interface : CommsInterface\n",
    "        Interface to use to talk to the instrument. Must\n",
    "        be an instantiated CommsInterface object.\n",
    "    \n",
    "    \"\"\"\n",
    "    def __init__(self, interface):\n",
    "        # These are \"state\" or \"data\" that will be attached to the object\n",
    "        self.interface_type = interface_type\n",
    "        self.interface_parameters = interface_parameters\n",
    "        \n",
    "        # Call methods that are defined within the class...\n",
    "        self.initialize_interface()\n",
    "        self.initialize_instrument()\n",
    "        \n",
    "    def initialize_interface(self):\n",
    "        if self.interface_type == 'rs-232':\n",
    "            self.interface = RS232()\n",
    "    def initialize_instrument(self):\n",
    "        gpib.open(self.address)\n",
    "        gpib.write('open')\n",
    "        \n",
    "    def take_data(self, points):\n",
    "        self."
   ]
  }
 ],
 "metadata": {
  "celltoolbar": "Slideshow",
  "kernelspec": {
   "display_name": "Python 2",
   "language": "python",
   "name": "python2"
  },
  "language_info": {
   "codemirror_mode": {
    "name": "ipython",
    "version": 2
   },
   "file_extension": ".py",
   "mimetype": "text/x-python",
   "name": "python",
   "nbconvert_exporter": "python",
   "pygments_lexer": "ipython2",
   "version": "2.7.11"
  }
 },
 "nbformat": 4,
 "nbformat_minor": 0
}
